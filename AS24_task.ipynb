{
  "nbformat": 4,
  "nbformat_minor": 0,
  "metadata": {
    "colab": {
      "provenance": [],
      "mount_file_id": "1ONR7trqdBC_IBGhm96CtINZ-Bg22TirH",
      "authorship_tag": "ABX9TyOnTC/5BeHHghZqIXT+XrQA",
      "include_colab_link": true
    },
    "kernelspec": {
      "name": "python3",
      "display_name": "Python 3"
    },
    "language_info": {
      "name": "python"
    }
  },
  "cells": [
    {
      "cell_type": "markdown",
      "metadata": {
        "id": "view-in-github",
        "colab_type": "text"
      },
      "source": [
        "<a href=\"https://colab.research.google.com/github/egenc/DataScience_tasks/blob/main/AS24_task.ipynb\" target=\"_parent\"><img src=\"https://colab.research.google.com/assets/colab-badge.svg\" alt=\"Open In Colab\"/></a>"
      ]
    },
    {
      "cell_type": "code",
      "source": [
        "import pandas as pd\n",
        "\n",
        "desc = pd.read_csv(\"/content/drive/MyDrive/autoScout24/AS24_Data_Description.csv\", sep=\";\")\n",
        "\n",
        "desc"
      ],
      "metadata": {
        "colab": {
          "base_uri": "https://localhost:8080/",
          "height": 425
        },
        "id": "LwtfpFZtka88",
        "outputId": "1fdf6cc7-fd86-444f-8c90-fc790d11da99"
      },
      "execution_count": null,
      "outputs": [
        {
          "output_type": "execute_result",
          "data": {
            "text/plain": [
              "                column name                                        description\n",
              "0                article_id                          unique article identifier\n",
              "1              product_tier                      premium status of the article\n",
              "2                 make_name                       name of the car manufacturer\n",
              "3                     price                               price of the article\n",
              "4           first_zip_digit  first digit of the zip code of the region the ...\n",
              "5   first_registration_year      year of the first registration of the article\n",
              "6              created_date                       creation date of the listing\n",
              "7              deleted_date                       deletion date of the listing\n",
              "8              search_views  number of times the article has been shown as ...\n",
              "9              detail_views    number of times the article has been clicked on\n",
              "10               stock_days  Time in days between the creation of the listi...\n",
              "11                      ctr  Click through rate calculated as the quotient ..."
            ],
            "text/html": [
              "\n",
              "  <div id=\"df-2acac476-87be-4d9a-b0c8-188f015144df\">\n",
              "    <div class=\"colab-df-container\">\n",
              "      <div>\n",
              "<style scoped>\n",
              "    .dataframe tbody tr th:only-of-type {\n",
              "        vertical-align: middle;\n",
              "    }\n",
              "\n",
              "    .dataframe tbody tr th {\n",
              "        vertical-align: top;\n",
              "    }\n",
              "\n",
              "    .dataframe thead th {\n",
              "        text-align: right;\n",
              "    }\n",
              "</style>\n",
              "<table border=\"1\" class=\"dataframe\">\n",
              "  <thead>\n",
              "    <tr style=\"text-align: right;\">\n",
              "      <th></th>\n",
              "      <th>column name</th>\n",
              "      <th>description</th>\n",
              "    </tr>\n",
              "  </thead>\n",
              "  <tbody>\n",
              "    <tr>\n",
              "      <th>0</th>\n",
              "      <td>article_id</td>\n",
              "      <td>unique article identifier</td>\n",
              "    </tr>\n",
              "    <tr>\n",
              "      <th>1</th>\n",
              "      <td>product_tier</td>\n",
              "      <td>premium status of the article</td>\n",
              "    </tr>\n",
              "    <tr>\n",
              "      <th>2</th>\n",
              "      <td>make_name</td>\n",
              "      <td>name of the car manufacturer</td>\n",
              "    </tr>\n",
              "    <tr>\n",
              "      <th>3</th>\n",
              "      <td>price</td>\n",
              "      <td>price of the article</td>\n",
              "    </tr>\n",
              "    <tr>\n",
              "      <th>4</th>\n",
              "      <td>first_zip_digit</td>\n",
              "      <td>first digit of the zip code of the region the ...</td>\n",
              "    </tr>\n",
              "    <tr>\n",
              "      <th>5</th>\n",
              "      <td>first_registration_year</td>\n",
              "      <td>year of the first registration of the article</td>\n",
              "    </tr>\n",
              "    <tr>\n",
              "      <th>6</th>\n",
              "      <td>created_date</td>\n",
              "      <td>creation date of the listing</td>\n",
              "    </tr>\n",
              "    <tr>\n",
              "      <th>7</th>\n",
              "      <td>deleted_date</td>\n",
              "      <td>deletion date of the listing</td>\n",
              "    </tr>\n",
              "    <tr>\n",
              "      <th>8</th>\n",
              "      <td>search_views</td>\n",
              "      <td>number of times the article has been shown as ...</td>\n",
              "    </tr>\n",
              "    <tr>\n",
              "      <th>9</th>\n",
              "      <td>detail_views</td>\n",
              "      <td>number of times the article has been clicked on</td>\n",
              "    </tr>\n",
              "    <tr>\n",
              "      <th>10</th>\n",
              "      <td>stock_days</td>\n",
              "      <td>Time in days between the creation of the listi...</td>\n",
              "    </tr>\n",
              "    <tr>\n",
              "      <th>11</th>\n",
              "      <td>ctr</td>\n",
              "      <td>Click through rate calculated as the quotient ...</td>\n",
              "    </tr>\n",
              "  </tbody>\n",
              "</table>\n",
              "</div>\n",
              "      <button class=\"colab-df-convert\" onclick=\"convertToInteractive('df-2acac476-87be-4d9a-b0c8-188f015144df')\"\n",
              "              title=\"Convert this dataframe to an interactive table.\"\n",
              "              style=\"display:none;\">\n",
              "        \n",
              "  <svg xmlns=\"http://www.w3.org/2000/svg\" height=\"24px\"viewBox=\"0 0 24 24\"\n",
              "       width=\"24px\">\n",
              "    <path d=\"M0 0h24v24H0V0z\" fill=\"none\"/>\n",
              "    <path d=\"M18.56 5.44l.94 2.06.94-2.06 2.06-.94-2.06-.94-.94-2.06-.94 2.06-2.06.94zm-11 1L8.5 8.5l.94-2.06 2.06-.94-2.06-.94L8.5 2.5l-.94 2.06-2.06.94zm10 10l.94 2.06.94-2.06 2.06-.94-2.06-.94-.94-2.06-.94 2.06-2.06.94z\"/><path d=\"M17.41 7.96l-1.37-1.37c-.4-.4-.92-.59-1.43-.59-.52 0-1.04.2-1.43.59L10.3 9.45l-7.72 7.72c-.78.78-.78 2.05 0 2.83L4 21.41c.39.39.9.59 1.41.59.51 0 1.02-.2 1.41-.59l7.78-7.78 2.81-2.81c.8-.78.8-2.07 0-2.86zM5.41 20L4 18.59l7.72-7.72 1.47 1.35L5.41 20z\"/>\n",
              "  </svg>\n",
              "      </button>\n",
              "      \n",
              "  <style>\n",
              "    .colab-df-container {\n",
              "      display:flex;\n",
              "      flex-wrap:wrap;\n",
              "      gap: 12px;\n",
              "    }\n",
              "\n",
              "    .colab-df-convert {\n",
              "      background-color: #E8F0FE;\n",
              "      border: none;\n",
              "      border-radius: 50%;\n",
              "      cursor: pointer;\n",
              "      display: none;\n",
              "      fill: #1967D2;\n",
              "      height: 32px;\n",
              "      padding: 0 0 0 0;\n",
              "      width: 32px;\n",
              "    }\n",
              "\n",
              "    .colab-df-convert:hover {\n",
              "      background-color: #E2EBFA;\n",
              "      box-shadow: 0px 1px 2px rgba(60, 64, 67, 0.3), 0px 1px 3px 1px rgba(60, 64, 67, 0.15);\n",
              "      fill: #174EA6;\n",
              "    }\n",
              "\n",
              "    [theme=dark] .colab-df-convert {\n",
              "      background-color: #3B4455;\n",
              "      fill: #D2E3FC;\n",
              "    }\n",
              "\n",
              "    [theme=dark] .colab-df-convert:hover {\n",
              "      background-color: #434B5C;\n",
              "      box-shadow: 0px 1px 3px 1px rgba(0, 0, 0, 0.15);\n",
              "      filter: drop-shadow(0px 1px 2px rgba(0, 0, 0, 0.3));\n",
              "      fill: #FFFFFF;\n",
              "    }\n",
              "  </style>\n",
              "\n",
              "      <script>\n",
              "        const buttonEl =\n",
              "          document.querySelector('#df-2acac476-87be-4d9a-b0c8-188f015144df button.colab-df-convert');\n",
              "        buttonEl.style.display =\n",
              "          google.colab.kernel.accessAllowed ? 'block' : 'none';\n",
              "\n",
              "        async function convertToInteractive(key) {\n",
              "          const element = document.querySelector('#df-2acac476-87be-4d9a-b0c8-188f015144df');\n",
              "          const dataTable =\n",
              "            await google.colab.kernel.invokeFunction('convertToInteractive',\n",
              "                                                     [key], {});\n",
              "          if (!dataTable) return;\n",
              "\n",
              "          const docLinkHtml = 'Like what you see? Visit the ' +\n",
              "            '<a target=\"_blank\" href=https://colab.research.google.com/notebooks/data_table.ipynb>data table notebook</a>'\n",
              "            + ' to learn more about interactive tables.';\n",
              "          element.innerHTML = '';\n",
              "          dataTable['output_type'] = 'display_data';\n",
              "          await google.colab.output.renderOutput(dataTable, element);\n",
              "          const docLink = document.createElement('div');\n",
              "          docLink.innerHTML = docLinkHtml;\n",
              "          element.appendChild(docLink);\n",
              "        }\n",
              "      </script>\n",
              "    </div>\n",
              "  </div>\n",
              "  "
            ]
          },
          "metadata": {},
          "execution_count": 1
        }
      ]
    },
    {
      "cell_type": "code",
      "execution_count": null,
      "metadata": {
        "colab": {
          "base_uri": "https://localhost:8080/",
          "height": 322
        },
        "id": "W6aODL6WnkvE",
        "outputId": "f93b75e0-dba4-4d43-eef1-624e7c573eb0"
      },
      "outputs": [
        {
          "output_type": "execute_result",
          "data": {
            "text/plain": [
              "   article_id product_tier      make_name  price  first_zip_digit  \\\n",
              "0   350625839        Basic     Mitsubishi  16750                5   \n",
              "1   354412280        Basic  Mercedes-Benz  35950                4   \n",
              "2   349572992        Basic  Mercedes-Benz  11950                3   \n",
              "3   350266763        Basic           Ford   1750                6   \n",
              "4   355688985        Basic  Mercedes-Benz  26500                3   \n",
              "\n",
              "   first_registration_year created_date deleted_date  search_views  \\\n",
              "0                     2013     24.07.18     24.08.18        3091.0   \n",
              "1                     2015     16.08.18     07.10.18        3283.0   \n",
              "2                     1998     16.07.18     05.09.18        3247.0   \n",
              "3                     2003     20.07.18     29.10.18        1856.0   \n",
              "4                     2014     28.08.18     08.09.18         490.0   \n",
              "\n",
              "   detail_views  stock_days                   ctr  \n",
              "0         123.0          30   0.03780329990294403  \n",
              "1         223.0          52   0.06792567773378008  \n",
              "2         265.0          51    0.0816137973514013  \n",
              "3          26.0         101  0.014008620689655173  \n",
              "4          20.0          12   0.04081632653061224  "
            ],
            "text/html": [
              "\n",
              "  <div id=\"df-7b018fb5-2e88-4a40-a3da-d8c027c00b2f\">\n",
              "    <div class=\"colab-df-container\">\n",
              "      <div>\n",
              "<style scoped>\n",
              "    .dataframe tbody tr th:only-of-type {\n",
              "        vertical-align: middle;\n",
              "    }\n",
              "\n",
              "    .dataframe tbody tr th {\n",
              "        vertical-align: top;\n",
              "    }\n",
              "\n",
              "    .dataframe thead th {\n",
              "        text-align: right;\n",
              "    }\n",
              "</style>\n",
              "<table border=\"1\" class=\"dataframe\">\n",
              "  <thead>\n",
              "    <tr style=\"text-align: right;\">\n",
              "      <th></th>\n",
              "      <th>article_id</th>\n",
              "      <th>product_tier</th>\n",
              "      <th>make_name</th>\n",
              "      <th>price</th>\n",
              "      <th>first_zip_digit</th>\n",
              "      <th>first_registration_year</th>\n",
              "      <th>created_date</th>\n",
              "      <th>deleted_date</th>\n",
              "      <th>search_views</th>\n",
              "      <th>detail_views</th>\n",
              "      <th>stock_days</th>\n",
              "      <th>ctr</th>\n",
              "    </tr>\n",
              "  </thead>\n",
              "  <tbody>\n",
              "    <tr>\n",
              "      <th>0</th>\n",
              "      <td>350625839</td>\n",
              "      <td>Basic</td>\n",
              "      <td>Mitsubishi</td>\n",
              "      <td>16750</td>\n",
              "      <td>5</td>\n",
              "      <td>2013</td>\n",
              "      <td>24.07.18</td>\n",
              "      <td>24.08.18</td>\n",
              "      <td>3091.0</td>\n",
              "      <td>123.0</td>\n",
              "      <td>30</td>\n",
              "      <td>0.03780329990294403</td>\n",
              "    </tr>\n",
              "    <tr>\n",
              "      <th>1</th>\n",
              "      <td>354412280</td>\n",
              "      <td>Basic</td>\n",
              "      <td>Mercedes-Benz</td>\n",
              "      <td>35950</td>\n",
              "      <td>4</td>\n",
              "      <td>2015</td>\n",
              "      <td>16.08.18</td>\n",
              "      <td>07.10.18</td>\n",
              "      <td>3283.0</td>\n",
              "      <td>223.0</td>\n",
              "      <td>52</td>\n",
              "      <td>0.06792567773378008</td>\n",
              "    </tr>\n",
              "    <tr>\n",
              "      <th>2</th>\n",
              "      <td>349572992</td>\n",
              "      <td>Basic</td>\n",
              "      <td>Mercedes-Benz</td>\n",
              "      <td>11950</td>\n",
              "      <td>3</td>\n",
              "      <td>1998</td>\n",
              "      <td>16.07.18</td>\n",
              "      <td>05.09.18</td>\n",
              "      <td>3247.0</td>\n",
              "      <td>265.0</td>\n",
              "      <td>51</td>\n",
              "      <td>0.0816137973514013</td>\n",
              "    </tr>\n",
              "    <tr>\n",
              "      <th>3</th>\n",
              "      <td>350266763</td>\n",
              "      <td>Basic</td>\n",
              "      <td>Ford</td>\n",
              "      <td>1750</td>\n",
              "      <td>6</td>\n",
              "      <td>2003</td>\n",
              "      <td>20.07.18</td>\n",
              "      <td>29.10.18</td>\n",
              "      <td>1856.0</td>\n",
              "      <td>26.0</td>\n",
              "      <td>101</td>\n",
              "      <td>0.014008620689655173</td>\n",
              "    </tr>\n",
              "    <tr>\n",
              "      <th>4</th>\n",
              "      <td>355688985</td>\n",
              "      <td>Basic</td>\n",
              "      <td>Mercedes-Benz</td>\n",
              "      <td>26500</td>\n",
              "      <td>3</td>\n",
              "      <td>2014</td>\n",
              "      <td>28.08.18</td>\n",
              "      <td>08.09.18</td>\n",
              "      <td>490.0</td>\n",
              "      <td>20.0</td>\n",
              "      <td>12</td>\n",
              "      <td>0.04081632653061224</td>\n",
              "    </tr>\n",
              "  </tbody>\n",
              "</table>\n",
              "</div>\n",
              "      <button class=\"colab-df-convert\" onclick=\"convertToInteractive('df-7b018fb5-2e88-4a40-a3da-d8c027c00b2f')\"\n",
              "              title=\"Convert this dataframe to an interactive table.\"\n",
              "              style=\"display:none;\">\n",
              "        \n",
              "  <svg xmlns=\"http://www.w3.org/2000/svg\" height=\"24px\"viewBox=\"0 0 24 24\"\n",
              "       width=\"24px\">\n",
              "    <path d=\"M0 0h24v24H0V0z\" fill=\"none\"/>\n",
              "    <path d=\"M18.56 5.44l.94 2.06.94-2.06 2.06-.94-2.06-.94-.94-2.06-.94 2.06-2.06.94zm-11 1L8.5 8.5l.94-2.06 2.06-.94-2.06-.94L8.5 2.5l-.94 2.06-2.06.94zm10 10l.94 2.06.94-2.06 2.06-.94-2.06-.94-.94-2.06-.94 2.06-2.06.94z\"/><path d=\"M17.41 7.96l-1.37-1.37c-.4-.4-.92-.59-1.43-.59-.52 0-1.04.2-1.43.59L10.3 9.45l-7.72 7.72c-.78.78-.78 2.05 0 2.83L4 21.41c.39.39.9.59 1.41.59.51 0 1.02-.2 1.41-.59l7.78-7.78 2.81-2.81c.8-.78.8-2.07 0-2.86zM5.41 20L4 18.59l7.72-7.72 1.47 1.35L5.41 20z\"/>\n",
              "  </svg>\n",
              "      </button>\n",
              "      \n",
              "  <style>\n",
              "    .colab-df-container {\n",
              "      display:flex;\n",
              "      flex-wrap:wrap;\n",
              "      gap: 12px;\n",
              "    }\n",
              "\n",
              "    .colab-df-convert {\n",
              "      background-color: #E8F0FE;\n",
              "      border: none;\n",
              "      border-radius: 50%;\n",
              "      cursor: pointer;\n",
              "      display: none;\n",
              "      fill: #1967D2;\n",
              "      height: 32px;\n",
              "      padding: 0 0 0 0;\n",
              "      width: 32px;\n",
              "    }\n",
              "\n",
              "    .colab-df-convert:hover {\n",
              "      background-color: #E2EBFA;\n",
              "      box-shadow: 0px 1px 2px rgba(60, 64, 67, 0.3), 0px 1px 3px 1px rgba(60, 64, 67, 0.15);\n",
              "      fill: #174EA6;\n",
              "    }\n",
              "\n",
              "    [theme=dark] .colab-df-convert {\n",
              "      background-color: #3B4455;\n",
              "      fill: #D2E3FC;\n",
              "    }\n",
              "\n",
              "    [theme=dark] .colab-df-convert:hover {\n",
              "      background-color: #434B5C;\n",
              "      box-shadow: 0px 1px 3px 1px rgba(0, 0, 0, 0.15);\n",
              "      filter: drop-shadow(0px 1px 2px rgba(0, 0, 0, 0.3));\n",
              "      fill: #FFFFFF;\n",
              "    }\n",
              "  </style>\n",
              "\n",
              "      <script>\n",
              "        const buttonEl =\n",
              "          document.querySelector('#df-7b018fb5-2e88-4a40-a3da-d8c027c00b2f button.colab-df-convert');\n",
              "        buttonEl.style.display =\n",
              "          google.colab.kernel.accessAllowed ? 'block' : 'none';\n",
              "\n",
              "        async function convertToInteractive(key) {\n",
              "          const element = document.querySelector('#df-7b018fb5-2e88-4a40-a3da-d8c027c00b2f');\n",
              "          const dataTable =\n",
              "            await google.colab.kernel.invokeFunction('convertToInteractive',\n",
              "                                                     [key], {});\n",
              "          if (!dataTable) return;\n",
              "\n",
              "          const docLinkHtml = 'Like what you see? Visit the ' +\n",
              "            '<a target=\"_blank\" href=https://colab.research.google.com/notebooks/data_table.ipynb>data table notebook</a>'\n",
              "            + ' to learn more about interactive tables.';\n",
              "          element.innerHTML = '';\n",
              "          dataTable['output_type'] = 'display_data';\n",
              "          await google.colab.output.renderOutput(dataTable, element);\n",
              "          const docLink = document.createElement('div');\n",
              "          docLink.innerHTML = docLinkHtml;\n",
              "          element.appendChild(docLink);\n",
              "        }\n",
              "      </script>\n",
              "    </div>\n",
              "  </div>\n",
              "  "
            ]
          },
          "metadata": {},
          "execution_count": 2
        }
      ],
      "source": [
        "df = pd.read_csv(\"/content/drive/MyDrive/autoScout24/AS24_Case_Study_Data.csv\", sep=\";\")\n",
        "\n",
        "df.head()"
      ]
    },
    {
      "cell_type": "markdown",
      "source": [
        "### Things need to applied from a first glimpse:\n",
        "- Dropping article_id column since it is used for indexing\n",
        "- Dropping also created and deleted date, since stock_days column is present\n",
        "\n",
        "####Dropping unused columns have direct effect on performance in terms of memory usage, processing time etc."
      ],
      "metadata": {
        "id": "RfM-6eVxGb4I"
      }
    },
    {
      "cell_type": "code",
      "source": [
        "## Dropping article_id column since it is used for indexing\n",
        "## Dropping also created and deleted date, since stock_days column is present\n",
        "## Dropping unused columns have direct effect on performance in terms of memory usage, processing time etc.\n",
        "df = df.drop([\"article_id\", \"created_date\", \"deleted_date\"], axis = 1)\n",
        "\n",
        "df.shape"
      ],
      "metadata": {
        "colab": {
          "base_uri": "https://localhost:8080/"
        },
        "id": "DQ1t55Wzq8Sc",
        "outputId": "ee2f4d3e-4fe3-4c10-cd87-ec582ca3113b"
      },
      "execution_count": null,
      "outputs": [
        {
          "output_type": "execute_result",
          "data": {
            "text/plain": [
              "(78321, 9)"
            ]
          },
          "metadata": {},
          "execution_count": 3
        }
      ]
    },
    {
      "cell_type": "code",
      "source": [
        "df.info()"
      ],
      "metadata": {
        "colab": {
          "base_uri": "https://localhost:8080/"
        },
        "id": "ckfkmVtFrDj8",
        "outputId": "752480b8-07cc-430d-ec48-f6067f71805b"
      },
      "execution_count": null,
      "outputs": [
        {
          "output_type": "stream",
          "name": "stdout",
          "text": [
            "<class 'pandas.core.frame.DataFrame'>\n",
            "RangeIndex: 78321 entries, 0 to 78320\n",
            "Data columns (total 9 columns):\n",
            " #   Column                   Non-Null Count  Dtype  \n",
            "---  ------                   --------------  -----  \n",
            " 0   product_tier             78321 non-null  object \n",
            " 1   make_name                78321 non-null  object \n",
            " 2   price                    78321 non-null  int64  \n",
            " 3   first_zip_digit          78321 non-null  int64  \n",
            " 4   first_registration_year  78321 non-null  int64  \n",
            " 5   search_views             78311 non-null  float64\n",
            " 6   detail_views             78311 non-null  float64\n",
            " 7   stock_days               78321 non-null  int64  \n",
            " 8   ctr                      78297 non-null  object \n",
            "dtypes: float64(2), int64(4), object(3)\n",
            "memory usage: 5.4+ MB\n"
          ]
        }
      ]
    },
    {
      "cell_type": "code",
      "source": [
        "df.isnull().sum()"
      ],
      "metadata": {
        "colab": {
          "base_uri": "https://localhost:8080/"
        },
        "id": "5l0qlGhMpJav",
        "outputId": "8c7f947d-ded2-4f33-8415-368b870ea3b7"
      },
      "execution_count": null,
      "outputs": [
        {
          "output_type": "execute_result",
          "data": {
            "text/plain": [
              "product_tier                0\n",
              "make_name                   0\n",
              "price                       0\n",
              "first_zip_digit             0\n",
              "first_registration_year     0\n",
              "search_views               10\n",
              "detail_views               10\n",
              "stock_days                  0\n",
              "ctr                        24\n",
              "dtype: int64"
            ]
          },
          "metadata": {},
          "execution_count": 5
        }
      ]
    },
    {
      "cell_type": "markdown",
      "source": [
        "#### Dropping NaN values"
      ],
      "metadata": {
        "id": "df2UODHhGXkB"
      }
    },
    {
      "cell_type": "code",
      "source": [
        "df = df.dropna()\n",
        "\n",
        "df.isnull().sum()"
      ],
      "metadata": {
        "colab": {
          "base_uri": "https://localhost:8080/"
        },
        "id": "x1F54TQotXJP",
        "outputId": "45b404ed-ea72-4a8e-aaa3-2e4a56f4b144"
      },
      "execution_count": null,
      "outputs": [
        {
          "output_type": "execute_result",
          "data": {
            "text/plain": [
              "product_tier               0\n",
              "make_name                  0\n",
              "price                      0\n",
              "first_zip_digit            0\n",
              "first_registration_year    0\n",
              "search_views               0\n",
              "detail_views               0\n",
              "stock_days                 0\n",
              "ctr                        0\n",
              "dtype: int64"
            ]
          },
          "metadata": {},
          "execution_count": 6
        }
      ]
    },
    {
      "cell_type": "code",
      "source": [
        "df.describe()"
      ],
      "metadata": {
        "colab": {
          "base_uri": "https://localhost:8080/",
          "height": 300
        },
        "id": "010qugYUrRpa",
        "outputId": "43236183-3a1e-4f9a-8005-bbfa434e7c88"
      },
      "execution_count": null,
      "outputs": [
        {
          "output_type": "execute_result",
          "data": {
            "text/plain": [
              "               price  first_zip_digit  first_registration_year  search_views  \\\n",
              "count   78297.000000     78297.000000             78297.000000   78297.00000   \n",
              "mean    15069.670358         4.631876              2011.090336    2297.91333   \n",
              "std     16375.598837         2.354368                 6.538638    6339.52668   \n",
              "min        50.000000         1.000000              1924.000000       1.00000   \n",
              "25%      5750.000000         3.000000              2008.000000     368.00000   \n",
              "50%     10909.000000         5.000000              2013.000000     920.00000   \n",
              "75%     18890.000000         7.000000              2015.000000    2234.00000   \n",
              "max    249888.000000         9.000000              2106.000000  608754.00000   \n",
              "\n",
              "       detail_views    stock_days  \n",
              "count  78297.000000  78297.000000  \n",
              "mean      93.486583     35.995070  \n",
              "std      228.042547     32.213083  \n",
              "min        0.000000     -3.000000  \n",
              "25%       13.000000     10.000000  \n",
              "50%       36.000000     25.000000  \n",
              "75%       94.000000     55.000000  \n",
              "max    13926.000000    127.000000  "
            ],
            "text/html": [
              "\n",
              "  <div id=\"df-87389efb-65db-4703-8297-91e5ed3df1ea\">\n",
              "    <div class=\"colab-df-container\">\n",
              "      <div>\n",
              "<style scoped>\n",
              "    .dataframe tbody tr th:only-of-type {\n",
              "        vertical-align: middle;\n",
              "    }\n",
              "\n",
              "    .dataframe tbody tr th {\n",
              "        vertical-align: top;\n",
              "    }\n",
              "\n",
              "    .dataframe thead th {\n",
              "        text-align: right;\n",
              "    }\n",
              "</style>\n",
              "<table border=\"1\" class=\"dataframe\">\n",
              "  <thead>\n",
              "    <tr style=\"text-align: right;\">\n",
              "      <th></th>\n",
              "      <th>price</th>\n",
              "      <th>first_zip_digit</th>\n",
              "      <th>first_registration_year</th>\n",
              "      <th>search_views</th>\n",
              "      <th>detail_views</th>\n",
              "      <th>stock_days</th>\n",
              "    </tr>\n",
              "  </thead>\n",
              "  <tbody>\n",
              "    <tr>\n",
              "      <th>count</th>\n",
              "      <td>78297.000000</td>\n",
              "      <td>78297.000000</td>\n",
              "      <td>78297.000000</td>\n",
              "      <td>78297.00000</td>\n",
              "      <td>78297.000000</td>\n",
              "      <td>78297.000000</td>\n",
              "    </tr>\n",
              "    <tr>\n",
              "      <th>mean</th>\n",
              "      <td>15069.670358</td>\n",
              "      <td>4.631876</td>\n",
              "      <td>2011.090336</td>\n",
              "      <td>2297.91333</td>\n",
              "      <td>93.486583</td>\n",
              "      <td>35.995070</td>\n",
              "    </tr>\n",
              "    <tr>\n",
              "      <th>std</th>\n",
              "      <td>16375.598837</td>\n",
              "      <td>2.354368</td>\n",
              "      <td>6.538638</td>\n",
              "      <td>6339.52668</td>\n",
              "      <td>228.042547</td>\n",
              "      <td>32.213083</td>\n",
              "    </tr>\n",
              "    <tr>\n",
              "      <th>min</th>\n",
              "      <td>50.000000</td>\n",
              "      <td>1.000000</td>\n",
              "      <td>1924.000000</td>\n",
              "      <td>1.00000</td>\n",
              "      <td>0.000000</td>\n",
              "      <td>-3.000000</td>\n",
              "    </tr>\n",
              "    <tr>\n",
              "      <th>25%</th>\n",
              "      <td>5750.000000</td>\n",
              "      <td>3.000000</td>\n",
              "      <td>2008.000000</td>\n",
              "      <td>368.00000</td>\n",
              "      <td>13.000000</td>\n",
              "      <td>10.000000</td>\n",
              "    </tr>\n",
              "    <tr>\n",
              "      <th>50%</th>\n",
              "      <td>10909.000000</td>\n",
              "      <td>5.000000</td>\n",
              "      <td>2013.000000</td>\n",
              "      <td>920.00000</td>\n",
              "      <td>36.000000</td>\n",
              "      <td>25.000000</td>\n",
              "    </tr>\n",
              "    <tr>\n",
              "      <th>75%</th>\n",
              "      <td>18890.000000</td>\n",
              "      <td>7.000000</td>\n",
              "      <td>2015.000000</td>\n",
              "      <td>2234.00000</td>\n",
              "      <td>94.000000</td>\n",
              "      <td>55.000000</td>\n",
              "    </tr>\n",
              "    <tr>\n",
              "      <th>max</th>\n",
              "      <td>249888.000000</td>\n",
              "      <td>9.000000</td>\n",
              "      <td>2106.000000</td>\n",
              "      <td>608754.00000</td>\n",
              "      <td>13926.000000</td>\n",
              "      <td>127.000000</td>\n",
              "    </tr>\n",
              "  </tbody>\n",
              "</table>\n",
              "</div>\n",
              "      <button class=\"colab-df-convert\" onclick=\"convertToInteractive('df-87389efb-65db-4703-8297-91e5ed3df1ea')\"\n",
              "              title=\"Convert this dataframe to an interactive table.\"\n",
              "              style=\"display:none;\">\n",
              "        \n",
              "  <svg xmlns=\"http://www.w3.org/2000/svg\" height=\"24px\"viewBox=\"0 0 24 24\"\n",
              "       width=\"24px\">\n",
              "    <path d=\"M0 0h24v24H0V0z\" fill=\"none\"/>\n",
              "    <path d=\"M18.56 5.44l.94 2.06.94-2.06 2.06-.94-2.06-.94-.94-2.06-.94 2.06-2.06.94zm-11 1L8.5 8.5l.94-2.06 2.06-.94-2.06-.94L8.5 2.5l-.94 2.06-2.06.94zm10 10l.94 2.06.94-2.06 2.06-.94-2.06-.94-.94-2.06-.94 2.06-2.06.94z\"/><path d=\"M17.41 7.96l-1.37-1.37c-.4-.4-.92-.59-1.43-.59-.52 0-1.04.2-1.43.59L10.3 9.45l-7.72 7.72c-.78.78-.78 2.05 0 2.83L4 21.41c.39.39.9.59 1.41.59.51 0 1.02-.2 1.41-.59l7.78-7.78 2.81-2.81c.8-.78.8-2.07 0-2.86zM5.41 20L4 18.59l7.72-7.72 1.47 1.35L5.41 20z\"/>\n",
              "  </svg>\n",
              "      </button>\n",
              "      \n",
              "  <style>\n",
              "    .colab-df-container {\n",
              "      display:flex;\n",
              "      flex-wrap:wrap;\n",
              "      gap: 12px;\n",
              "    }\n",
              "\n",
              "    .colab-df-convert {\n",
              "      background-color: #E8F0FE;\n",
              "      border: none;\n",
              "      border-radius: 50%;\n",
              "      cursor: pointer;\n",
              "      display: none;\n",
              "      fill: #1967D2;\n",
              "      height: 32px;\n",
              "      padding: 0 0 0 0;\n",
              "      width: 32px;\n",
              "    }\n",
              "\n",
              "    .colab-df-convert:hover {\n",
              "      background-color: #E2EBFA;\n",
              "      box-shadow: 0px 1px 2px rgba(60, 64, 67, 0.3), 0px 1px 3px 1px rgba(60, 64, 67, 0.15);\n",
              "      fill: #174EA6;\n",
              "    }\n",
              "\n",
              "    [theme=dark] .colab-df-convert {\n",
              "      background-color: #3B4455;\n",
              "      fill: #D2E3FC;\n",
              "    }\n",
              "\n",
              "    [theme=dark] .colab-df-convert:hover {\n",
              "      background-color: #434B5C;\n",
              "      box-shadow: 0px 1px 3px 1px rgba(0, 0, 0, 0.15);\n",
              "      filter: drop-shadow(0px 1px 2px rgba(0, 0, 0, 0.3));\n",
              "      fill: #FFFFFF;\n",
              "    }\n",
              "  </style>\n",
              "\n",
              "      <script>\n",
              "        const buttonEl =\n",
              "          document.querySelector('#df-87389efb-65db-4703-8297-91e5ed3df1ea button.colab-df-convert');\n",
              "        buttonEl.style.display =\n",
              "          google.colab.kernel.accessAllowed ? 'block' : 'none';\n",
              "\n",
              "        async function convertToInteractive(key) {\n",
              "          const element = document.querySelector('#df-87389efb-65db-4703-8297-91e5ed3df1ea');\n",
              "          const dataTable =\n",
              "            await google.colab.kernel.invokeFunction('convertToInteractive',\n",
              "                                                     [key], {});\n",
              "          if (!dataTable) return;\n",
              "\n",
              "          const docLinkHtml = 'Like what you see? Visit the ' +\n",
              "            '<a target=\"_blank\" href=https://colab.research.google.com/notebooks/data_table.ipynb>data table notebook</a>'\n",
              "            + ' to learn more about interactive tables.';\n",
              "          element.innerHTML = '';\n",
              "          dataTable['output_type'] = 'display_data';\n",
              "          await google.colab.output.renderOutput(dataTable, element);\n",
              "          const docLink = document.createElement('div');\n",
              "          docLink.innerHTML = docLinkHtml;\n",
              "          element.appendChild(docLink);\n",
              "        }\n",
              "      </script>\n",
              "    </div>\n",
              "  </div>\n",
              "  "
            ]
          },
          "metadata": {},
          "execution_count": 7
        }
      ]
    },
    {
      "cell_type": "markdown",
      "source": [
        "# 1) Is it possible to predict the product tier from the information given in the other columns?\n",
        "\n",
        "This is a classification task."
      ],
      "metadata": {
        "id": "59FB-xhtUg7M"
      }
    },
    {
      "cell_type": "code",
      "source": [
        "print(\"\\u0332\".join(\"NumberOfClasses:\"))\n",
        "print(len(df['product_tier'].unique()))\n",
        "print(\"-\"*10)\n",
        "print(\"value counts per class: \\n\", df['product_tier'].value_counts())"
      ],
      "metadata": {
        "colab": {
          "base_uri": "https://localhost:8080/"
        },
        "id": "VyOWCJyptIDV",
        "outputId": "4c1138a1-1f57-4ab7-9664-77752b92d45d"
      },
      "execution_count": null,
      "outputs": [
        {
          "output_type": "stream",
          "name": "stdout",
          "text": [
            "N̲u̲m̲b̲e̲r̲O̲f̲C̲l̲a̲s̲s̲e̲s̲:\n",
            "3\n",
            "----------\n",
            "value counts per class: \n",
            " Basic      75397\n",
            "Premium     2324\n",
            "Plus         576\n",
            "Name: product_tier, dtype: int64\n"
          ]
        }
      ]
    },
    {
      "cell_type": "code",
      "source": [
        "import seaborn as sns\n",
        "\n",
        "## Let's plot class distributon\n",
        "sns.displot(df['product_tier'])"
      ],
      "metadata": {
        "colab": {
          "base_uri": "https://localhost:8080/",
          "height": 387
        },
        "id": "-_1Q5rakuOt7",
        "outputId": "fd4f327d-35af-4168-978f-d39a766531fa"
      },
      "execution_count": null,
      "outputs": [
        {
          "output_type": "execute_result",
          "data": {
            "text/plain": [
              "<seaborn.axisgrid.FacetGrid at 0x7f57df406490>"
            ]
          },
          "metadata": {},
          "execution_count": 9
        },
        {
          "output_type": "display_data",
          "data": {
            "text/plain": [
              "<Figure size 360x360 with 1 Axes>"
            ],
            "image/png": "[encoded data removed]"
          },
          "metadata": {
            "needs_background": "light"
          }
        }
      ]
    },
    {
      "cell_type": "markdown",
      "source": [
        "### Dataset looks pretty imbalanced. Let's leave it as it is to have a baseline performance.\n",
        "Sometimes preliminary results have better performance than preprocessed results."
      ],
      "metadata": {
        "id": "iVGWBvQ-Fss_"
      }
    },
    {
      "cell_type": "code",
      "source": [
        "## Checking how many different brands there are\n",
        "print(df['make_name'].unique())\n",
        "\n",
        "## Creating dictionary by assinging index to each brand\n",
        "d = {index: value for value, index in enumerate(df['make_name'].unique())}\n",
        "print(\"-\"*50)\n",
        "print(d)"
      ],
      "metadata": {
        "colab": {
          "base_uri": "https://localhost:8080/"
        },
        "id": "FWHqXzJ6vvkt",
        "outputId": "0273f1a5-bd3d-4fb4-d61b-117b498816e2"
      },
      "execution_count": null,
      "outputs": [
        {
          "output_type": "stream",
          "name": "stdout",
          "text": [
            "['Mitsubishi' 'Mercedes-Benz' 'Ford' 'Volkswagen' 'Fiat' 'Renault' 'Mazda'\n",
            " 'Peugeot' 'Opel' 'Toyota' 'Jaguar' 'Volvo' 'Dacia' 'MINI' 'Porsche'\n",
            " 'Nissan' 'BMW' 'Land Rover' 'Audi' 'Citroen' 'Hyundai' 'Suzuki'\n",
            " 'Alfa Romeo' 'Chevrolet' 'Daewoo' 'Kia' 'Maserati' 'Skoda'\n",
            " 'Caravans-Wohnm' 'SEAT' 'Honda' 'Daihatsu' 'Chrysler' 'smart' 'Saab'\n",
            " 'Jeep' 'Others ' 'Lexus' 'Aixam' 'Ligier' 'Lancia' 'Oldtimer' 'Chatenet'\n",
            " 'Subaru' 'Triumph' 'Ferrari' 'Rolls-Royce' 'Dodge' 'MG' 'Cadillac'\n",
            " 'DS Automobiles' 'Iveco' 'Bentley' 'SsangYong' 'Tesla' 'Trucks-Lkw' 'TVR'\n",
            " 'Aston Martin' 'Abarth' 'HUMMER' 'Lincoln' 'Isuzu' 'Microcar' 'Buick'\n",
            " 'AC' 'Alpina' 'Corvette' 'McLaren' 'Rover' 'Austin' 'De Tomaso' 'FISKER'\n",
            " 'Infiniti' 'Lotus' 'Morgan' 'GMC' 'Oldsmobile' 'Donkervoort' 'Alpine'\n",
            " 'Daimler' 'Lamborghini' 'Grecav' 'Casalini' 'Pontiac' 'MAN' 'Piaggio'\n",
            " 'Amphicar' 'Tata' 'DFSK' 'Kawasaki' 'KTM']\n",
            "--------------------------------------------------\n",
            "{'Mitsubishi': 0, 'Mercedes-Benz': 1, 'Ford': 2, 'Volkswagen': 3, 'Fiat': 4, 'Renault': 5, 'Mazda': 6, 'Peugeot': 7, 'Opel': 8, 'Toyota': 9, 'Jaguar': 10, 'Volvo': 11, 'Dacia': 12, 'MINI': 13, 'Porsche': 14, 'Nissan': 15, 'BMW': 16, 'Land Rover': 17, 'Audi': 18, 'Citroen': 19, 'Hyundai': 20, 'Suzuki': 21, 'Alfa Romeo': 22, 'Chevrolet': 23, 'Daewoo': 24, 'Kia': 25, 'Maserati': 26, 'Skoda': 27, 'Caravans-Wohnm': 28, 'SEAT': 29, 'Honda': 30, 'Daihatsu': 31, 'Chrysler': 32, 'smart': 33, 'Saab': 34, 'Jeep': 35, 'Others ': 36, 'Lexus': 37, 'Aixam': 38, 'Ligier': 39, 'Lancia': 40, 'Oldtimer': 41, 'Chatenet': 42, 'Subaru': 43, 'Triumph': 44, 'Ferrari': 45, 'Rolls-Royce': 46, 'Dodge': 47, 'MG': 48, 'Cadillac': 49, 'DS Automobiles': 50, 'Iveco': 51, 'Bentley': 52, 'SsangYong': 53, 'Tesla': 54, 'Trucks-Lkw': 55, 'TVR': 56, 'Aston Martin': 57, 'Abarth': 58, 'HUMMER': 59, 'Lincoln': 60, 'Isuzu': 61, 'Microcar': 62, 'Buick': 63, 'AC': 64, 'Alpina': 65, 'Corvette': 66, 'McLaren': 67, 'Rover': 68, 'Austin': 69, 'De Tomaso': 70, 'FISKER': 71, 'Infiniti': 72, 'Lotus': 73, 'Morgan': 74, 'GMC': 75, 'Oldsmobile': 76, 'Donkervoort': 77, 'Alpine': 78, 'Daimler': 79, 'Lamborghini': 80, 'Grecav': 81, 'Casalini': 82, 'Pontiac': 83, 'MAN': 84, 'Piaggio': 85, 'Amphicar': 86, 'Tata': 87, 'DFSK': 88, 'Kawasaki': 89, 'KTM': 90}\n"
          ]
        }
      ]
    },
    {
      "cell_type": "markdown",
      "source": [
        "### After getting the general overview about the data, here some of the points:\n",
        "- ML Algorithms accepts numerical data as input, therefore, **make_name** column should be encoded.\n",
        "- Labels should also be replaced by numerical values. (**product_tier** column)\n",
        "- **ctr column** consists of strings in which some values cannot be converted to float. **converter** function will do the job in this regard. There are some strings like '01 Apr' which are inconvertable. Replacing them with 0."
      ],
      "metadata": {
        "id": "yGIJjhhCFE1U"
      }
    },
    {
      "cell_type": "code",
      "source": [
        "## ML Algorithms accepts numerical data as input, therefore, make_name column should be encoded.\n",
        "## Labels should also be replaced by numerical values.\n",
        "## This is why dictionary d is prepared.\n",
        "\n",
        "## LabelEncoder from sklearn library can also be used for this process.\n",
        "\n",
        "df_last = df.replace({'make_name':d, 'product_tier':{'Basic':0,'Premium':1,'Plus':2}})\n",
        "\n",
        "## ctr column consists of strings in which some values cannot be converted to float\n",
        "## converter function will do the job in this regard\n",
        "## There are some strings like '01 Apr' which are inconvertable. Replacing them with 0\n",
        "def converter(text):\n",
        "  try:\n",
        "    return float(text)\n",
        "  except ValueError:\n",
        "    try:\n",
        "      return float(text.replace(\".\",\"\"))\n",
        "    except ValueError:\n",
        "      return 0\n",
        "\n",
        "df_last['ctr'] = df_last.apply(lambda row: converter(row['ctr']), axis = 1)\n",
        "\n",
        "df_last"
      ],
      "metadata": {
        "colab": {
          "base_uri": "https://localhost:8080/",
          "height": 424
        },
        "id": "dYflo-nEueEU",
        "outputId": "d810e9b1-6c65-4554-d308-0cecc7f24454"
      },
      "execution_count": null,
      "outputs": [
        {
          "output_type": "execute_result",
          "data": {
            "text/plain": [
              "       product_tier  make_name  price  first_zip_digit  \\\n",
              "0                 0          0  16750                5   \n",
              "1                 0          1  35950                4   \n",
              "2                 0          1  11950                3   \n",
              "3                 0          2   1750                6   \n",
              "4                 0          1  26500                3   \n",
              "...             ...        ...    ...              ...   \n",
              "78316             0         37  15740                8   \n",
              "78317             0         20   2950                6   \n",
              "78318             0          3   7850                8   \n",
              "78319             0          9  13945                5   \n",
              "78320             0          3  38800                7   \n",
              "\n",
              "       first_registration_year  search_views  detail_views  stock_days  \\\n",
              "0                         2013        3091.0         123.0          30   \n",
              "1                         2015        3283.0         223.0          52   \n",
              "2                         1998        3247.0         265.0          51   \n",
              "3                         2003        1856.0          26.0         101   \n",
              "4                         2014         490.0          20.0          12   \n",
              "...                        ...           ...           ...         ...   \n",
              "78316                     2014        6895.0         230.0          99   \n",
              "78317                     2006        1175.0          16.0          25   \n",
              "78318                     2014         448.0          21.0          16   \n",
              "78319                     2011        1617.0          29.0          28   \n",
              "78320                     2018          55.0           2.0           1   \n",
              "\n",
              "            ctr  \n",
              "0      0.037803  \n",
              "1      0.067926  \n",
              "2      0.081614  \n",
              "3      0.014009  \n",
              "4      0.040816  \n",
              "...         ...  \n",
              "78316  0.033358  \n",
              "78317  0.012936  \n",
              "78318  0.046875  \n",
              "78319  0.017934  \n",
              "78320  0.034545  \n",
              "\n",
              "[78297 rows x 9 columns]"
            ],
            "text/html": [
              "\n",
              "  <div id=\"df-57c7bd36-ac87-4a04-84cd-8612c7bb8afa\">\n",
              "    <div class=\"colab-df-container\">\n",
              "      <div>\n",
              "<style scoped>\n",
              "    .dataframe tbody tr th:only-of-type {\n",
              "        vertical-align: middle;\n",
              "    }\n",
              "\n",
              "    .dataframe tbody tr th {\n",
              "        vertical-align: top;\n",
              "    }\n",
              "\n",
              "    .dataframe thead th {\n",
              "        text-align: right;\n",
              "    }\n",
              "</style>\n",
              "<table border=\"1\" class=\"dataframe\">\n",
              "  <thead>\n",
              "    <tr style=\"text-align: right;\">\n",
              "      <th></th>\n",
              "      <th>product_tier</th>\n",
              "      <th>make_name</th>\n",
              "      <th>price</th>\n",
              "      <th>first_zip_digit</th>\n",
              "      <th>first_registration_year</th>\n",
              "      <th>search_views</th>\n",
              "      <th>detail_views</th>\n",
              "      <th>stock_days</th>\n",
              "      <th>ctr</th>\n",
              "    </tr>\n",
              "  </thead>\n",
              "  <tbody>\n",
              "    <tr>\n",
              "      <th>0</th>\n",
              "      <td>0</td>\n",
              "      <td>0</td>\n",
              "      <td>16750</td>\n",
              "      <td>5</td>\n",
              "      <td>2013</td>\n",
              "      <td>3091.0</td>\n",
              "      <td>123.0</td>\n",
              "      <td>30</td>\n",
              "      <td>0.037803</td>\n",
              "    </tr>\n",
              "    <tr>\n",
              "      <th>1</th>\n",
              "      <td>0</td>\n",
              "      <td>1</td>\n",
              "      <td>35950</td>\n",
              "      <td>4</td>\n",
              "      <td>2015</td>\n",
              "      <td>3283.0</td>\n",
              "      <td>223.0</td>\n",
              "      <td>52</td>\n",
              "      <td>0.067926</td>\n",
              "    </tr>\n",
              "    <tr>\n",
              "      <th>2</th>\n",
              "      <td>0</td>\n",
              "      <td>1</td>\n",
              "      <td>11950</td>\n",
              "      <td>3</td>\n",
              "      <td>1998</td>\n",
              "      <td>3247.0</td>\n",
              "      <td>265.0</td>\n",
              "      <td>51</td>\n",
              "      <td>0.081614</td>\n",
              "    </tr>\n",
              "    <tr>\n",
              "      <th>3</th>\n",
              "      <td>0</td>\n",
              "      <td>2</td>\n",
              "      <td>1750</td>\n",
              "      <td>6</td>\n",
              "      <td>2003</td>\n",
              "      <td>1856.0</td>\n",
              "      <td>26.0</td>\n",
              "      <td>101</td>\n",
              "      <td>0.014009</td>\n",
              "    </tr>\n",
              "    <tr>\n",
              "      <th>4</th>\n",
              "      <td>0</td>\n",
              "      <td>1</td>\n",
              "      <td>26500</td>\n",
              "      <td>3</td>\n",
              "      <td>2014</td>\n",
              "      <td>490.0</td>\n",
              "      <td>20.0</td>\n",
              "      <td>12</td>\n",
              "      <td>0.040816</td>\n",
              "    </tr>\n",
              "    <tr>\n",
              "      <th>...</th>\n",
              "      <td>...</td>\n",
              "      <td>...</td>\n",
              "      <td>...</td>\n",
              "      <td>...</td>\n",
              "      <td>...</td>\n",
              "      <td>...</td>\n",
              "      <td>...</td>\n",
              "      <td>...</td>\n",
              "      <td>...</td>\n",
              "    </tr>\n",
              "    <tr>\n",
              "      <th>78316</th>\n",
              "      <td>0</td>\n",
              "      <td>37</td>\n",
              "      <td>15740</td>\n",
              "      <td>8</td>\n",
              "      <td>2014</td>\n",
              "      <td>6895.0</td>\n",
              "      <td>230.0</td>\n",
              "      <td>99</td>\n",
              "      <td>0.033358</td>\n",
              "    </tr>\n",
              "    <tr>\n",
              "      <th>78317</th>\n",
              "      <td>0</td>\n",
              "      <td>20</td>\n",
              "      <td>2950</td>\n",
              "      <td>6</td>\n",
              "      <td>2006</td>\n",
              "      <td>1175.0</td>\n",
              "      <td>16.0</td>\n",
              "      <td>25</td>\n",
              "      <td>0.012936</td>\n",
              "    </tr>\n",
              "    <tr>\n",
              "      <th>78318</th>\n",
              "      <td>0</td>\n",
              "      <td>3</td>\n",
              "      <td>7850</td>\n",
              "      <td>8</td>\n",
              "      <td>2014</td>\n",
              "      <td>448.0</td>\n",
              "      <td>21.0</td>\n",
              "      <td>16</td>\n",
              "      <td>0.046875</td>\n",
              "    </tr>\n",
              "    <tr>\n",
              "      <th>78319</th>\n",
              "      <td>0</td>\n",
              "      <td>9</td>\n",
              "      <td>13945</td>\n",
              "      <td>5</td>\n",
              "      <td>2011</td>\n",
              "      <td>1617.0</td>\n",
              "      <td>29.0</td>\n",
              "      <td>28</td>\n",
              "      <td>0.017934</td>\n",
              "    </tr>\n",
              "    <tr>\n",
              "      <th>78320</th>\n",
              "      <td>0</td>\n",
              "      <td>3</td>\n",
              "      <td>38800</td>\n",
              "      <td>7</td>\n",
              "      <td>2018</td>\n",
              "      <td>55.0</td>\n",
              "      <td>2.0</td>\n",
              "      <td>1</td>\n",
              "      <td>0.034545</td>\n",
              "    </tr>\n",
              "  </tbody>\n",
              "</table>\n",
              "<p>78297 rows × 9 columns</p>\n",
              "</div>\n",
              "      <button class=\"colab-df-convert\" onclick=\"convertToInteractive('df-57c7bd36-ac87-4a04-84cd-8612c7bb8afa')\"\n",
              "              title=\"Convert this dataframe to an interactive table.\"\n",
              "              style=\"display:none;\">\n",
              "        \n",
              "  <svg xmlns=\"http://www.w3.org/2000/svg\" height=\"24px\"viewBox=\"0 0 24 24\"\n",
              "       width=\"24px\">\n",
              "    <path d=\"M0 0h24v24H0V0z\" fill=\"none\"/>\n",
              "    <path d=\"M18.56 5.44l.94 2.06.94-2.06 2.06-.94-2.06-.94-.94-2.06-.94 2.06-2.06.94zm-11 1L8.5 8.5l.94-2.06 2.06-.94-2.06-.94L8.5 2.5l-.94 2.06-2.06.94zm10 10l.94 2.06.94-2.06 2.06-.94-2.06-.94-.94-2.06-.94 2.06-2.06.94z\"/><path d=\"M17.41 7.96l-1.37-1.37c-.4-.4-.92-.59-1.43-.59-.52 0-1.04.2-1.43.59L10.3 9.45l-7.72 7.72c-.78.78-.78 2.05 0 2.83L4 21.41c.39.39.9.59 1.41.59.51 0 1.02-.2 1.41-.59l7.78-7.78 2.81-2.81c.8-.78.8-2.07 0-2.86zM5.41 20L4 18.59l7.72-7.72 1.47 1.35L5.41 20z\"/>\n",
              "  </svg>\n",
              "      </button>\n",
              "      \n",
              "  <style>\n",
              "    .colab-df-container {\n",
              "      display:flex;\n",
              "      flex-wrap:wrap;\n",
              "      gap: 12px;\n",
              "    }\n",
              "\n",
              "    .colab-df-convert {\n",
              "      background-color: #E8F0FE;\n",
              "      border: none;\n",
              "      border-radius: 50%;\n",
              "      cursor: pointer;\n",
              "      display: none;\n",
              "      fill: #1967D2;\n",
              "      height: 32px;\n",
              "      padding: 0 0 0 0;\n",
              "      width: 32px;\n",
              "    }\n",
              "\n",
              "    .colab-df-convert:hover {\n",
              "      background-color: #E2EBFA;\n",
              "      box-shadow: 0px 1px 2px rgba(60, 64, 67, 0.3), 0px 1px 3px 1px rgba(60, 64, 67, 0.15);\n",
              "      fill: #174EA6;\n",
              "    }\n",
              "\n",
              "    [theme=dark] .colab-df-convert {\n",
              "      background-color: #3B4455;\n",
              "      fill: #D2E3FC;\n",
              "    }\n",
              "\n",
              "    [theme=dark] .colab-df-convert:hover {\n",
              "      background-color: #434B5C;\n",
              "      box-shadow: 0px 1px 3px 1px rgba(0, 0, 0, 0.15);\n",
              "      filter: drop-shadow(0px 1px 2px rgba(0, 0, 0, 0.3));\n",
              "      fill: #FFFFFF;\n",
              "    }\n",
              "  </style>\n",
              "\n",
              "      <script>\n",
              "        const buttonEl =\n",
              "          document.querySelector('#df-57c7bd36-ac87-4a04-84cd-8612c7bb8afa button.colab-df-convert');\n",
              "        buttonEl.style.display =\n",
              "          google.colab.kernel.accessAllowed ? 'block' : 'none';\n",
              "\n",
              "        async function convertToInteractive(key) {\n",
              "          const element = document.querySelector('#df-57c7bd36-ac87-4a04-84cd-8612c7bb8afa');\n",
              "          const dataTable =\n",
              "            await google.colab.kernel.invokeFunction('convertToInteractive',\n",
              "                                                     [key], {});\n",
              "          if (!dataTable) return;\n",
              "\n",
              "          const docLinkHtml = 'Like what you see? Visit the ' +\n",
              "            '<a target=\"_blank\" href=https://colab.research.google.com/notebooks/data_table.ipynb>data table notebook</a>'\n",
              "            + ' to learn more about interactive tables.';\n",
              "          element.innerHTML = '';\n",
              "          dataTable['output_type'] = 'display_data';\n",
              "          await google.colab.output.renderOutput(dataTable, element);\n",
              "          const docLink = document.createElement('div');\n",
              "          docLink.innerHTML = docLinkHtml;\n",
              "          element.appendChild(docLink);\n",
              "        }\n",
              "      </script>\n",
              "    </div>\n",
              "  </div>\n",
              "  "
            ]
          },
          "metadata": {},
          "execution_count": 11
        }
      ]
    },
    {
      "cell_type": "markdown",
      "source": [
        "### After preparing data, it is time to split into train/test."
      ],
      "metadata": {
        "id": "IjOOkyWxG75C"
      }
    },
    {
      "cell_type": "code",
      "source": [
        "from sklearn.model_selection import train_test_split\n",
        "\n",
        "X = df_last.drop(columns = ['product_tier'],axis=1)\n",
        "Y = df_last['product_tier']\n",
        "\n",
        "X_train, X_test, Y_train, Y_test = train_test_split(X,Y, test_size=0.2, random_state=48)"
      ],
      "metadata": {
        "id": "-kUwSWSSsPXO"
      },
      "execution_count": null,
      "outputs": []
    },
    {
      "cell_type": "code",
      "source": [
        "## Let's print shapes\n",
        "\n",
        "print(\"X_train shape =\", X_train.shape)\n",
        "print(\"X_test shape =\", X_test.shape)\n",
        "print(\"Y_train shape =\", Y_train.shape)\n",
        "print(\"Y_test shape =\", Y_test.shape)"
      ],
      "metadata": {
        "colab": {
          "base_uri": "https://localhost:8080/"
        },
        "id": "hgOQCBW2ssu-",
        "outputId": "d5ec19f7-77e6-42a0-e192-2c3f1d0ef65c"
      },
      "execution_count": null,
      "outputs": [
        {
          "output_type": "stream",
          "name": "stdout",
          "text": [
            "X_train shape = (62637, 8)\n",
            "X_test shape = (15660, 8)\n",
            "Y_train shape = (62637,)\n",
            "Y_test shape = (15660,)\n"
          ]
        }
      ]
    },
    {
      "cell_type": "markdown",
      "source": [
        "## Firstly, Random Forest. \n",
        "Even though it operates like a black box, it sometimes can be useful to observe feature importance."
      ],
      "metadata": {
        "id": "HijAXGmvHJfn"
      }
    },
    {
      "cell_type": "code",
      "source": [
        "from sklearn.ensemble import RandomForestClassifier\n",
        "\n",
        "## Firstly, I would like to go with Random Forest. Even though it operates like a black box,\n",
        "## it sometimes can be useful to observe feature importance.\n",
        "\n",
        "clf = RandomForestClassifier(max_depth=50, random_state=0)\n",
        "clf.fit(X_train, Y_train)"
      ],
      "metadata": {
        "colab": {
          "base_uri": "https://localhost:8080/"
        },
        "id": "KYut1308to7G",
        "outputId": "89623359-bfa6-4e11-eb32-6c3589a2eebc"
      },
      "execution_count": null,
      "outputs": [
        {
          "output_type": "execute_result",
          "data": {
            "text/plain": [
              "RandomForestClassifier(max_depth=50, random_state=0)"
            ]
          },
          "metadata": {},
          "execution_count": 14
        }
      ]
    },
    {
      "cell_type": "code",
      "source": [
        "## Feature importances\n",
        "imp = dict(zip(X.columns, clf.feature_importances_))\n",
        "imp"
      ],
      "metadata": {
        "colab": {
          "base_uri": "https://localhost:8080/"
        },
        "id": "R89usEWDvBkf",
        "outputId": "0f3c9799-0add-41fe-c37e-4d621a7baf59"
      },
      "execution_count": null,
      "outputs": [
        {
          "output_type": "execute_result",
          "data": {
            "text/plain": [
              "{'ctr': 0.13922573253659984,\n",
              " 'detail_views': 0.14955198405585265,\n",
              " 'first_registration_year': 0.06846117472620905,\n",
              " 'first_zip_digit': 0.050327146055770385,\n",
              " 'make_name': 0.06881731527683395,\n",
              " 'price': 0.11168292640413989,\n",
              " 'search_views': 0.23757895357634523,\n",
              " 'stock_days': 0.17435476736824893}"
            ]
          },
          "metadata": {},
          "execution_count": 15
        }
      ]
    },
    {
      "cell_type": "markdown",
      "source": [
        "### Since dataset is imbalanced, proper evaluation metrics should be used. F1 score is one of them:"
      ],
      "metadata": {
        "id": "7jxN8HOt2ihr"
      }
    },
    {
      "cell_type": "code",
      "source": [
        "from sklearn.metrics import classification_report\n",
        "\n",
        "# Make predictions for the test set\n",
        "y_pred_test = clf.predict(X_test)\n",
        "\n",
        "print(classification_report(Y_test, y_pred_test))"
      ],
      "metadata": {
        "colab": {
          "base_uri": "https://localhost:8080/"
        },
        "id": "7KOdCGKLnEs3",
        "outputId": "d173c774-d952-4f2e-f424-56bb06dce0f7"
      },
      "execution_count": null,
      "outputs": [
        {
          "output_type": "stream",
          "name": "stdout",
          "text": [
            "              precision    recall  f1-score   support\n",
            "\n",
            "           0       0.98      1.00      0.99     15095\n",
            "           1       0.82      0.42      0.55       451\n",
            "           2       0.00      0.00      0.00       114\n",
            "\n",
            "    accuracy                           0.97     15660\n",
            "   macro avg       0.60      0.47      0.51     15660\n",
            "weighted avg       0.96      0.97      0.97     15660\n",
            "\n"
          ]
        },
        {
          "output_type": "stream",
          "name": "stderr",
          "text": [
            "/usr/local/lib/python3.7/dist-packages/sklearn/metrics/_classification.py:1318: UndefinedMetricWarning: Precision and F-score are ill-defined and being set to 0.0 in labels with no predicted samples. Use `zero_division` parameter to control this behavior.\n",
            "  _warn_prf(average, modifier, msg_start, len(result))\n",
            "/usr/local/lib/python3.7/dist-packages/sklearn/metrics/_classification.py:1318: UndefinedMetricWarning: Precision and F-score are ill-defined and being set to 0.0 in labels with no predicted samples. Use `zero_division` parameter to control this behavior.\n",
            "  _warn_prf(average, modifier, msg_start, len(result))\n",
            "/usr/local/lib/python3.7/dist-packages/sklearn/metrics/_classification.py:1318: UndefinedMetricWarning: Precision and F-score are ill-defined and being set to 0.0 in labels with no predicted samples. Use `zero_division` parameter to control this behavior.\n",
            "  _warn_prf(average, modifier, msg_start, len(result))\n"
          ]
        }
      ]
    },
    {
      "cell_type": "code",
      "source": [
        "from sklearn.metrics import confusion_matrix\n",
        "\n",
        "confusion_matrix(Y_test, y_pred_test)"
      ],
      "metadata": {
        "colab": {
          "base_uri": "https://localhost:8080/"
        },
        "id": "RBXZFBp6l8CE",
        "outputId": "801dd2ec-cf10-44b0-f2ed-dbc59a341ea2"
      },
      "execution_count": null,
      "outputs": [
        {
          "output_type": "execute_result",
          "data": {
            "text/plain": [
              "array([[15057,    38,     0],\n",
              "       [  263,   188,     0],\n",
              "       [  112,     2,     0]])"
            ]
          },
          "metadata": {},
          "execution_count": 18
        }
      ]
    },
    {
      "cell_type": "markdown",
      "source": [
        "#### As it is seen above (warnings & results), metrics for Class 2 is 0. "
      ],
      "metadata": {
        "id": "vNUGadNSHZZG"
      }
    },
    {
      "cell_type": "markdown",
      "source": [
        "### Random forests might be a simple method and cannot find patterns in the data. A more sophisticated approach might be used. In this case, I preferred using **LSTMs**:"
      ],
      "metadata": {
        "id": "mxRMqoEv3bDY"
      }
    },
    {
      "cell_type": "code",
      "source": [
        "## LSTM model\n",
        "import numpy as np\n",
        "import tensorflow as tf\n",
        "from tensorflow.keras.layers import Dense, LSTM, Flatten, Conv2D, Bidirectional, Conv1D, TimeDistributed\n",
        "from tensorflow.keras import Sequential\n",
        "\n",
        "X_train = np.expand_dims(X_train, axis = 1) ## Change Axis to 1 for LSTM Input\n",
        "X_test = np.expand_dims(X_test, axis = 1) ## Change Axis to 1 for LSTM Input\n",
        "# y_train = np.expand_dims(Y_train, axis = 1) \n",
        "# y_test = np.expand_dims(Y_test, axis = 1)\n",
        "\n",
        "def lstm_model():\n",
        "  model = Sequential()\n",
        "  model.add(LSTM(16, dropout = 0.2, return_sequences=True))\n",
        "  model.add(LSTM(32, dropout=0.3, recurrent_dropout=0.3))\n",
        "  # model.add(Dense(24)) ## Just to check if Fully connected layer helps -- (*Didnt help)\n",
        "  model.add(Dense(1))\n",
        "  opt = tf.keras.optimizers.Adam()\n",
        "  model.compile(optimizer=opt,  loss=tf.keras.losses.MeanAbsoluteError())\n",
        "  return model\n",
        "\n",
        "model = lstm_model()\n",
        "\n",
        "history = model.fit(X_train, Y_train, epochs = 10, batch_size=100000)\n",
        "\n",
        "model.evaluate(X_test, Y_test)"
      ],
      "metadata": {
        "colab": {
          "base_uri": "https://localhost:8080/"
        },
        "id": "dqQ77GuT3L1A",
        "outputId": "f0fb194e-29ad-4a39-f173-9132f6846f9d"
      },
      "execution_count": null,
      "outputs": [
        {
          "output_type": "stream",
          "name": "stdout",
          "text": [
            "Epoch 1/10\n",
            "1/1 [==============================] - 7s 7s/step - loss: 0.0938\n",
            "Epoch 2/10\n",
            "1/1 [==============================] - 0s 418ms/step - loss: 0.0885\n",
            "Epoch 3/10\n",
            "1/1 [==============================] - 0s 479ms/step - loss: 0.0831\n",
            "Epoch 4/10\n",
            "1/1 [==============================] - 0s 440ms/step - loss: 0.0786\n",
            "Epoch 5/10\n",
            "1/1 [==============================] - 1s 664ms/step - loss: 0.0764\n",
            "Epoch 6/10\n",
            "1/1 [==============================] - 1s 739ms/step - loss: 0.0747\n",
            "Epoch 7/10\n",
            "1/1 [==============================] - 1s 686ms/step - loss: 0.0731\n",
            "Epoch 8/10\n",
            "1/1 [==============================] - 1s 850ms/step - loss: 0.0720\n",
            "Epoch 9/10\n",
            "1/1 [==============================] - 1s 775ms/step - loss: 0.0710\n",
            "Epoch 10/10\n",
            "1/1 [==============================] - 1s 712ms/step - loss: 0.0698\n",
            "490/490 [==============================] - 4s 5ms/step - loss: 0.0600\n"
          ]
        },
        {
          "output_type": "execute_result",
          "data": {
            "text/plain": [
              "0.05996692180633545"
            ]
          },
          "metadata": {},
          "execution_count": 19
        }
      ]
    },
    {
      "cell_type": "markdown",
      "source": [
        "### Classification metrics can't handle a mix of multiclass and continuous targets. Hence, I need to make some adjustments on the predictions."
      ],
      "metadata": {
        "id": "_VzCLmIBApXU"
      }
    },
    {
      "cell_type": "code",
      "source": [
        "y_pred_test_lstm = model.predict(X_test)\n",
        "\n",
        "predictions = []\n",
        "\n",
        "for ele in y_pred_test_lstm:\n",
        "  if ele[0]<0.5:\n",
        "    predictions.append(0)\n",
        "  elif ele[0]>0.5 and ele[0]<1.5:\n",
        "    predictions.append(1)\n",
        "  else:\n",
        "    predictions.append(2)\n",
        "\n",
        "\n",
        "print(classification_report(Y_test, predictions))"
      ],
      "metadata": {
        "colab": {
          "base_uri": "https://localhost:8080/"
        },
        "id": "tPs1khcYAnfj",
        "outputId": "a7cdefb1-8bce-4fbb-d4d0-64c4d8925e18"
      },
      "execution_count": null,
      "outputs": [
        {
          "output_type": "stream",
          "name": "stdout",
          "text": [
            "              precision    recall  f1-score   support\n",
            "\n",
            "           0       0.96      1.00      0.98     15095\n",
            "           1       0.00      0.00      0.00       451\n",
            "           2       0.00      0.00      0.00       114\n",
            "\n",
            "    accuracy                           0.96     15660\n",
            "   macro avg       0.32      0.33      0.33     15660\n",
            "weighted avg       0.93      0.96      0.95     15660\n",
            "\n"
          ]
        },
        {
          "output_type": "stream",
          "name": "stderr",
          "text": [
            "/usr/local/lib/python3.7/dist-packages/sklearn/metrics/_classification.py:1318: UndefinedMetricWarning: Precision and F-score are ill-defined and being set to 0.0 in labels with no predicted samples. Use `zero_division` parameter to control this behavior.\n",
            "  _warn_prf(average, modifier, msg_start, len(result))\n",
            "/usr/local/lib/python3.7/dist-packages/sklearn/metrics/_classification.py:1318: UndefinedMetricWarning: Precision and F-score are ill-defined and being set to 0.0 in labels with no predicted samples. Use `zero_division` parameter to control this behavior.\n",
            "  _warn_prf(average, modifier, msg_start, len(result))\n",
            "/usr/local/lib/python3.7/dist-packages/sklearn/metrics/_classification.py:1318: UndefinedMetricWarning: Precision and F-score are ill-defined and being set to 0.0 in labels with no predicted samples. Use `zero_division` parameter to control this behavior.\n",
            "  _warn_prf(average, modifier, msg_start, len(result))\n"
          ]
        }
      ]
    },
    {
      "cell_type": "code",
      "source": [
        "max(y_pred_test_lstm)"
      ],
      "metadata": {
        "colab": {
          "base_uri": "https://localhost:8080/"
        },
        "id": "WbbKGECb-3RC",
        "outputId": "a4eea312-73d8-4bea-9e15-5d24c22255a1"
      },
      "execution_count": null,
      "outputs": [
        {
          "output_type": "execute_result",
          "data": {
            "text/plain": [
              "array([0.03110525], dtype=float32)"
            ]
          },
          "metadata": {},
          "execution_count": 21
        }
      ]
    },
    {
      "cell_type": "code",
      "source": [
        "from sklearn.metrics import confusion_matrix\n",
        "\n",
        "confusion_matrix(Y_test, predictions)"
      ],
      "metadata": {
        "colab": {
          "base_uri": "https://localhost:8080/"
        },
        "id": "9Ph2_hucmLMM",
        "outputId": "2a41020e-ef3f-4750-aab9-5c82a5168a4e"
      },
      "execution_count": null,
      "outputs": [
        {
          "output_type": "execute_result",
          "data": {
            "text/plain": [
              "array([[15095,     0,     0],\n",
              "       [  451,     0,     0],\n",
              "       [  114,     0,     0]])"
            ]
          },
          "metadata": {},
          "execution_count": 26
        }
      ]
    },
    {
      "cell_type": "markdown",
      "source": [
        "LSTMs made it even worse, it didnt even classify the second and third class at all. Further steps should be taken."
      ],
      "metadata": {
        "id": "MP0d93uRC6et"
      }
    },
    {
      "cell_type": "markdown",
      "source": [
        "-------------------------------------------------------------------------------------"
      ],
      "metadata": {
        "id": "dTw0uc-Xhoir"
      }
    },
    {
      "cell_type": "markdown",
      "source": [
        "# 2) Is it possible to predict detail views from the information given in the other columns?\n",
        "\n",
        "A regression problem."
      ],
      "metadata": {
        "id": "Ns5k5C3pe3bR"
      }
    },
    {
      "cell_type": "code",
      "source": [
        "X_reg = df_last.drop(columns = ['detail_views'],axis=1)\n",
        "Y_reg = df_last['detail_views']\n",
        "\n",
        "X_train_reg, X_test_reg, Y_train_reg, Y_test_reg = train_test_split(X_reg, Y_reg, test_size=0.2, random_state=48)"
      ],
      "metadata": {
        "id": "uk7YqNvre2ug"
      },
      "execution_count": null,
      "outputs": []
    },
    {
      "cell_type": "code",
      "source": [
        "from sklearn.ensemble import RandomForestRegressor\n",
        "\n",
        "regr = RandomForestRegressor(max_depth=50, random_state=0)\n",
        "regr.fit(X_train_reg, Y_train_reg)"
      ],
      "metadata": {
        "colab": {
          "base_uri": "https://localhost:8080/"
        },
        "id": "dNw7DXhJhmIz",
        "outputId": "ebc95afd-1095-4597-9f68-3975ad73620d"
      },
      "execution_count": null,
      "outputs": [
        {
          "output_type": "execute_result",
          "data": {
            "text/plain": [
              "RandomForestRegressor(max_depth=50, random_state=0)"
            ]
          },
          "metadata": {},
          "execution_count": 23
        }
      ]
    },
    {
      "cell_type": "code",
      "source": [
        "## Feature importances\n",
        "imp = dict(zip(X_reg.columns, regr.feature_importances_))\n",
        "imp"
      ],
      "metadata": {
        "colab": {
          "base_uri": "https://localhost:8080/"
        },
        "id": "KCGfzjuYiZCE",
        "outputId": "25d82379-1440-4a4b-f1fd-15f840a9920a"
      },
      "execution_count": null,
      "outputs": [
        {
          "output_type": "execute_result",
          "data": {
            "text/plain": [
              "{'ctr': 0.2130175614097608,\n",
              " 'first_registration_year': 0.0019076315528594556,\n",
              " 'first_zip_digit': 0.0022947016717745072,\n",
              " 'make_name': 0.0018030376267046447,\n",
              " 'price': 0.005095661301820719,\n",
              " 'product_tier': 0.0004827144151041265,\n",
              " 'search_views': 0.7731831577717049,\n",
              " 'stock_days': 0.0022155342502710356}"
            ]
          },
          "metadata": {},
          "execution_count": 24
        }
      ]
    },
    {
      "cell_type": "markdown",
      "source": [
        "It looks like search_views has the biggest impact."
      ],
      "metadata": {
        "id": "CoE0Rm1xjACZ"
      }
    },
    {
      "cell_type": "code",
      "source": [
        "from sklearn.metrics import mean_absolute_error\n",
        "import warnings\n",
        "\n",
        "\n",
        "with warnings.catch_warnings():\n",
        "    warnings.simplefilter(\"ignore\")\n",
        "    y_pred_test = clf.predict(X_test_reg)\n",
        "\n",
        "## using mean_absolute_error for regression problems\n",
        "print(mean_absolute_error(Y_test_reg, y_pred_test))"
      ],
      "metadata": {
        "colab": {
          "base_uri": "https://localhost:8080/"
        },
        "id": "gutJlP0pimgH",
        "outputId": "e3f3d4cb-8140-4a62-edf5-292d09a7efbf"
      },
      "execution_count": null,
      "outputs": [
        {
          "output_type": "stream",
          "name": "stdout",
          "text": [
            "91.37075351213282\n"
          ]
        }
      ]
    },
    {
      "cell_type": "markdown",
      "source": [
        "Error rate is quite high. It certainly needs preprocessing and understanding of data.\n",
        "\n",
        "Using only important features might be a good idea.\n",
        "\n",
        "**Let's also try with LSTMs:**"
      ],
      "metadata": {
        "id": "AUiGAmOdnJyM"
      }
    },
    {
      "cell_type": "code",
      "source": [
        "X_train_reg = np.expand_dims(X_train_reg, axis = 1) ## Change Axis to 1 for LSTM Input\n",
        "X_test_reg = np.expand_dims(X_test_reg, axis = 1) ## Change Axis to 1 for LSTM Input\n",
        "# y_train = np.expand_dims(Y_train, axis = 1) \n",
        "# y_test = np.expand_dims(Y_test, axis = 1)\n",
        "\n",
        "def lstm_model():\n",
        "  model = Sequential()\n",
        "  model.add(LSTM(16, dropout = 0.2, return_sequences=True))\n",
        "  model.add(LSTM(32, dropout=0.3, recurrent_dropout=0.3))\n",
        "  # model.add(Dense(24)) ## Just to check if Fully connected layer helps -- (*Didnt help)\n",
        "  model.add(Dense(1))\n",
        "  opt = tf.keras.optimizers.Adam()\n",
        "  model.compile(optimizer=opt,  loss=tf.keras.losses.MeanAbsoluteError())\n",
        "  return model\n",
        "\n",
        "model = lstm_model()\n",
        "\n",
        "history = model.fit(X_train_reg, Y_train_reg, epochs = 10, batch_size=100000)\n",
        "\n",
        "model.evaluate(X_test_reg, Y_test_reg)"
      ],
      "metadata": {
        "colab": {
          "base_uri": "https://localhost:8080/"
        },
        "id": "l_Gv_LWxnjEZ",
        "outputId": "f29a88b3-e44d-43bb-ec00-91f588ad4bc8"
      },
      "execution_count": null,
      "outputs": [
        {
          "output_type": "stream",
          "name": "stdout",
          "text": [
            "Epoch 1/10\n",
            "1/1 [==============================] - 7s 7s/step - loss: 94.0286\n",
            "Epoch 2/10\n",
            "1/1 [==============================] - 0s 409ms/step - loss: 94.0179\n",
            "Epoch 3/10\n",
            "1/1 [==============================] - 0s 427ms/step - loss: 94.0070\n",
            "Epoch 4/10\n",
            "1/1 [==============================] - 0s 414ms/step - loss: 93.9966\n",
            "Epoch 5/10\n",
            "1/1 [==============================] - 0s 413ms/step - loss: 93.9855\n",
            "Epoch 6/10\n",
            "1/1 [==============================] - 0s 406ms/step - loss: 93.9747\n",
            "Epoch 7/10\n",
            "1/1 [==============================] - 0s 403ms/step - loss: 93.9636\n",
            "Epoch 8/10\n",
            "1/1 [==============================] - 0s 422ms/step - loss: 93.9513\n",
            "Epoch 9/10\n",
            "1/1 [==============================] - 0s 408ms/step - loss: 93.9386\n",
            "Epoch 10/10\n",
            "1/1 [==============================] - 0s 413ms/step - loss: 93.9272\n",
            "490/490 [==============================] - 2s 2ms/step - loss: 91.2716\n"
          ]
        },
        {
          "output_type": "execute_result",
          "data": {
            "text/plain": [
              "91.27162170410156"
            ]
          },
          "metadata": {},
          "execution_count": 33
        }
      ]
    },
    {
      "cell_type": "markdown",
      "source": [
        "Using an advanced model did not perform as expected. Further steps should be taken for this problem."
      ],
      "metadata": {
        "id": "9s6I3aWOoQUI"
      }
    },
    {
      "cell_type": "markdown",
      "source": [
        "## Next Steps:\n",
        "After getting some preliminary results, theese would be further approaches I would take:\n",
        "- (Classification) Trimming the dataset for balancing dataset via:\n",
        "```\n",
        "for product in df1['product_tier'].unique():\n",
        "  rand = random.randint(550,650)\n",
        "  tmp = df1[df1.product_tier == product].iloc[:rand]\n",
        "  df = pd.concat([df, tmp])\n",
        "```\n",
        "Third class (**Plus** label) has 576 samples, hence, setting class size between (550,650)\n",
        "\n",
        "- (Both) Using specific columns only, selecting them according to feature importance (i. e. top-3) as displayed above. \n",
        "\n",
        "- (Both) Differrent approaches can be applied such as Naive Bayes, SVMs-SVRs, kNNs, or even MLP.\n",
        "(Regression)\n",
        "I would first try Naive Bayes since it assumes that each input variable is independent.\n",
        "\n",
        "- (Both) Preprocessing data as whole and/or column-wise via:\n",
        "  - StandardScaler\n",
        "  - MinMaxScaler\n",
        "  - MaxAbsScaler\n",
        "\n",
        "- (Classification) While trimming, resampling from dominant class.\n",
        "\n",
        "- (Both) Building a custom model(s):\n",
        "  - Optimizing hyperparameters and decreasing numberr of units for LSTMs could be tried.\n",
        "  - Employing RNNs couuld be an option, which is more sophisticated than conventional ML approaches and less complicated than LSTMs. \n",
        "  - SoTA models can also be used such as BERT (and derivatives) despite of being costly.\n",
        "\n",
        "- (Both) Generating synthetic data for imbalanced class (**Class 2**) using such as **CTGANs** and **SDV** libraries.\n",
        "\n",
        "- (Both) Using Ensemble and Boosting Algorithms: GradientBoosting, LightGBM, and XGBoost\n"
      ],
      "metadata": {
        "id": "5kyB6L18Iy29"
      }
    },
    {
      "cell_type": "markdown",
      "source": [
        "## In Conclusion\n",
        "1) Classification\n",
        "\n",
        "I do think that  this dataset is decent to get good results. Here are indicators for this:\n",
        "- When data is abundant (class 0), F1 score is over 95%.\n",
        "- Outliers of each class is not that different from each other. Thus, we are not that far from best.\n",
        "\n",
        "2) Regression\n",
        "\n",
        "It seems like a more complicated problem than classification. Mean of errors is quite high. \n",
        "- Robust preprocessing steps are needed.\n",
        " - Grouping similar inputs into clusters using KMeans.\n",
        " - Using a few brand names instead of all of them. If using a few brand names solve the problem, then that is an improvement.\n",
        " - Removing zip code info and checking the result (location independent). In contrary, instead of using zip codes, merging fusing them into 4 routes or more (i. e. north, west, south, east) to shrink the size.\n",
        "- Having more data might affect prominently.\n",
        "- Using different losses and observing their results are required. (i.e root-mean-square error)\n",
        "\n",
        "## From my experience, I have solved even more complex problems by applying the steps I wrote above. In addition, I am sure there are great people in AutoScout24 for brainstorming, which might lead us to propose even better methods."
      ],
      "metadata": {
        "id": "ucWEqd5RQNbk"
      }
    },
    {
      "cell_type": "markdown",
      "source": [
        "## Please let me know if more explanation is needed. I can explain this notebook line by line via whys and hows."
      ],
      "metadata": {
        "id": "dSyHiPeTvJaB"
      }
    },
    {
      "cell_type": "markdown",
      "source": [
        "# Thank you for reading :)"
      ],
      "metadata": {
        "id": "hNxH47jqTc4W"
      }
    }
  ]
}